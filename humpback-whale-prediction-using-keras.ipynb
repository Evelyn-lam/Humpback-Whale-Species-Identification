{
 "cells": [
  {
   "cell_type": "markdown",
   "metadata": {
    "_uuid": "0e01ec8f6fe648b36fd52a058ba8684467601f01"
   },
   "source": [
    "## Humpback Whale prediction using Keras"
   ]
  },
  {
   "cell_type": "code",
   "execution_count": 1,
   "metadata": {
    "_cell_guid": "b1076dfc-b9ad-4769-8c92-a6c4dae69d19",
    "_uuid": "8f2839f25d086af736a60e9eeb907d3b93b6e0e5",
    "execution": {
     "iopub.execute_input": "2022-05-14T08:10:18.168936Z",
     "iopub.status.busy": "2022-05-14T08:10:18.168605Z",
     "iopub.status.idle": "2022-05-14T08:10:18.196255Z",
     "shell.execute_reply": "2022-05-14T08:10:18.195240Z",
     "shell.execute_reply.started": "2022-05-14T08:10:18.168858Z"
    }
   },
   "outputs": [],
   "source": [
    "# This Python 3 environment comes with many helpful analytics libraries installed\n",
    "# It is defined by the kaggle/python docker image: https://github.com/kaggle/docker-python\n",
    "# For example, here's several helpful packages to load in \n",
    "\n",
    "import numpy as np # linear algebra\n",
    "import pandas as pd # data processing, CSV file I/O (e.g. pd.read_csv)\n",
    "import matplotlib.pyplot as plt\n",
    "%matplotlib inline\n",
    "\n",
    "# Input data files are available in the \"../input/\" directory.\n",
    "# For example, running this (by clicking run or pressing Shift+Enter) will list the files in the input directory\n",
    "\n",
    "import os\n",
    "print(os.listdir(\"../input\"))\n",
    "\n",
    "# Any results you write to the current directory are saved as output."
   ]
  },
  {
   "cell_type": "code",
   "execution_count": 2,
   "metadata": {
    "_cell_guid": "79c7e3d0-c299-4dcb-8224-4455121ee9b0",
    "_uuid": "d629ff2d2480ee46fbb7e2d37f6b5fab8052498a",
    "execution": {
     "iopub.execute_input": "2022-05-14T08:10:18.201906Z",
     "iopub.status.busy": "2022-05-14T08:10:18.201630Z",
     "iopub.status.idle": "2022-05-14T08:10:18.261762Z",
     "shell.execute_reply": "2022-05-14T08:10:18.260908Z",
     "shell.execute_reply.started": "2022-05-14T08:10:18.201842Z"
    }
   },
   "outputs": [],
   "source": [
    "train = pd.read_csv('../input/train.csv')"
   ]
  },
  {
   "cell_type": "code",
   "execution_count": 3,
   "metadata": {
    "_uuid": "2b2424d801240d9c454b7bc5684956626a0ffde0",
    "execution": {
     "iopub.execute_input": "2022-05-14T08:10:18.263641Z",
     "iopub.status.busy": "2022-05-14T08:10:18.263295Z",
     "iopub.status.idle": "2022-05-14T08:10:18.292553Z",
     "shell.execute_reply": "2022-05-14T08:10:18.291703Z",
     "shell.execute_reply.started": "2022-05-14T08:10:18.263579Z"
    }
   },
   "outputs": [],
   "source": [
    "train.head()"
   ]
  },
  {
   "cell_type": "code",
   "execution_count": 4,
   "metadata": {
    "_uuid": "46cbe06dad9c2c6c479929daa2a1ff98c2de447d",
    "execution": {
     "iopub.execute_input": "2022-05-14T08:10:18.294416Z",
     "iopub.status.busy": "2022-05-14T08:10:18.294108Z",
     "iopub.status.idle": "2022-05-14T08:10:18.318635Z",
     "shell.execute_reply": "2022-05-14T08:10:18.317553Z",
     "shell.execute_reply.started": "2022-05-14T08:10:18.294358Z"
    }
   },
   "outputs": [],
   "source": [
    "train['Id'].describe()"
   ]
  },
  {
   "cell_type": "code",
   "execution_count": 5,
   "metadata": {
    "_uuid": "4a329470bf6e44eca8561c67ea4196e46c929cb2",
    "execution": {
     "iopub.execute_input": "2022-05-14T08:10:18.322315Z",
     "iopub.status.busy": "2022-05-14T08:10:18.320994Z",
     "iopub.status.idle": "2022-05-14T08:10:18.327166Z",
     "shell.execute_reply": "2022-05-14T08:10:18.326077Z",
     "shell.execute_reply.started": "2022-05-14T08:10:18.321194Z"
    }
   },
   "outputs": [],
   "source": [
    "y_train = train['Id']"
   ]
  },
  {
   "cell_type": "code",
   "execution_count": 6,
   "metadata": {
    "_uuid": "c7548d5c5d13fafb72722bc7a6ddd3e0e9fbd195",
    "execution": {
     "iopub.execute_input": "2022-05-14T08:10:18.357428Z",
     "iopub.status.busy": "2022-05-14T08:10:18.357086Z",
     "iopub.status.idle": "2022-05-14T08:10:21.494405Z",
     "shell.execute_reply": "2022-05-14T08:10:21.493367Z",
     "shell.execute_reply.started": "2022-05-14T08:10:18.357370Z"
    }
   },
   "outputs": [],
   "source": [
    "from keras.preprocessing import image\n",
    "from keras.applications.imagenet_utils import preprocess_input\n",
    "\n",
    "def prepareImages(train, shape, path):\n",
    "    \n",
    "    x_train = np.zeros((shape, 100, 100, 3))\n",
    "    count = 0\n",
    "    \n",
    "    for fig in train['Image']:\n",
    "        \n",
    "        #load images into images of size 100x100x3\n",
    "        img = image.load_img(\"../input/\"+path+\"/\"+fig, target_size=(100, 100, 3))\n",
    "        x = image.img_to_array(img)\n",
    "        x = preprocess_input(x)\n",
    "\n",
    "        x_train[count] = x\n",
    "        if (count%500 == 0):\n",
    "            print(\"Processing image: \", count+1, \", \", fig)\n",
    "        count += 1\n",
    "    \n",
    "    return x_train"
   ]
  },
  {
   "cell_type": "code",
   "execution_count": 7,
   "metadata": {
    "_uuid": "e4053ceccc01d179ba72df51c9da6ebbcd605d7e",
    "execution": {
     "iopub.execute_input": "2022-05-14T08:10:21.497209Z",
     "iopub.status.busy": "2022-05-14T08:10:21.496562Z",
     "iopub.status.idle": "2022-05-14T08:18:42.889385Z",
     "shell.execute_reply": "2022-05-14T08:18:42.888338Z",
     "shell.execute_reply.started": "2022-05-14T08:10:21.496930Z"
    }
   },
   "outputs": [],
   "source": [
    "X_train = prepareImages(train, train.shape[0], 'train')\n",
    "X_train/=255"
   ]
  },
  {
   "cell_type": "code",
   "execution_count": 8,
   "metadata": {
    "_uuid": "8b9f46779e6f03fee79e61dcfe76983a4c23927f",
    "execution": {
     "iopub.execute_input": "2022-05-14T08:18:42.891173Z",
     "iopub.status.busy": "2022-05-14T08:18:42.890825Z",
     "iopub.status.idle": "2022-05-14T08:18:43.850718Z",
     "shell.execute_reply": "2022-05-14T08:18:43.849465Z",
     "shell.execute_reply.started": "2022-05-14T08:18:42.891113Z"
    }
   },
   "outputs": [],
   "source": [
    "from sklearn.preprocessing import LabelEncoder\n",
    "from keras.utils.np_utils import to_categorical"
   ]
  },
  {
   "cell_type": "code",
   "execution_count": 9,
   "metadata": {
    "_uuid": "aacf272b6cd29ea3b90c92ce85784f1997aa3b88",
    "execution": {
     "iopub.execute_input": "2022-05-14T08:18:43.859440Z",
     "iopub.status.busy": "2022-05-14T08:18:43.856671Z",
     "iopub.status.idle": "2022-05-14T08:18:43.954407Z",
     "shell.execute_reply": "2022-05-14T08:18:43.953160Z",
     "shell.execute_reply.started": "2022-05-14T08:18:43.859371Z"
    }
   },
   "outputs": [],
   "source": [
    "label_encoder = LabelEncoder()\n",
    "y_train = label_encoder.fit_transform(y_train)\n",
    "y_train = to_categorical(y_train, num_classes = 5005)"
   ]
  },
  {
   "cell_type": "code",
   "execution_count": 10,
   "metadata": {
    "_uuid": "3d078e65a704d744f59c552f192beb0570439b39",
    "execution": {
     "iopub.execute_input": "2022-05-14T08:18:43.963173Z",
     "iopub.status.busy": "2022-05-14T08:18:43.960429Z",
     "iopub.status.idle": "2022-05-14T08:18:43.974773Z",
     "shell.execute_reply": "2022-05-14T08:18:43.973723Z",
     "shell.execute_reply.started": "2022-05-14T08:18:43.963105Z"
    }
   },
   "outputs": [],
   "source": [
    "y_train.shape"
   ]
  },
  {
   "cell_type": "markdown",
   "metadata": {
    "_uuid": "825bce00af2cce0aedb6198c943e146d5d59b13c"
   },
   "source": [
    "### Preparing the model"
   ]
  },
  {
   "cell_type": "code",
   "execution_count": 11,
   "metadata": {
    "_uuid": "bb121886fa068c3b7c950d9a627f7e3b2db66a09",
    "execution": {
     "iopub.execute_input": "2022-05-14T08:18:43.979283Z",
     "iopub.status.busy": "2022-05-14T08:18:43.976912Z",
     "iopub.status.idle": "2022-05-14T08:18:43.988144Z",
     "shell.execute_reply": "2022-05-14T08:18:43.986881Z",
     "shell.execute_reply.started": "2022-05-14T08:18:43.977239Z"
    }
   },
   "outputs": [],
   "source": [
    "from keras.models import Sequential\n",
    "from keras.preprocessing.image import ImageDataGenerator\n",
    "from keras.layers import Dropout, Flatten, MaxPooling2D, Conv2D, Dense\n",
    "from keras.layers.normalization import BatchNormalization"
   ]
  },
  {
   "cell_type": "code",
   "execution_count": 12,
   "metadata": {
    "_uuid": "8f62db3eefe72d357fa44f673be01926b5f0b00e",
    "execution": {
     "iopub.execute_input": "2022-05-14T08:18:43.991572Z",
     "iopub.status.busy": "2022-05-14T08:18:43.990665Z",
     "iopub.status.idle": "2022-05-14T08:18:44.380748Z",
     "shell.execute_reply": "2022-05-14T08:18:44.379314Z",
     "shell.execute_reply.started": "2022-05-14T08:18:43.991499Z"
    }
   },
   "outputs": [],
   "source": [
    "model = Sequential()\n",
    "\n",
    "model.add(Conv2D(32, (5,5), strides = (1,1), padding='same', activation = 'relu', input_shape = (100, 100, 3)))\n",
    "model.add(Conv2D(32, (5,5), strides = (1,1), padding = 'same', activation='relu'))\n",
    "model.add(MaxPooling2D((2,2)))\n",
    "\n",
    "model.add(Conv2D(32, (3,3), strides = (2,2), padding='same', activation='relu'))\n",
    "model.add(Conv2D(32, (3,3), strides = (2,2), padding='same', activation='relu'))\n",
    "model.add(MaxPooling2D((2,2), strides = (2,2)))\n",
    "\n",
    "model.add(Conv2D(64, (3,3), strides = (1,1), padding='same', activation='relu'))\n",
    "model.add(Conv2D(64, (3,3), strides=(1,1), padding='same', activation='relu'))\n",
    "model.add(MaxPooling2D((2,2), strides = (2,2)))\n",
    "\n",
    "model.add(Dropout(0.2))\n",
    "model.add(Flatten())\n",
    "\n",
    "model.add(Dense(128, activation='relu'))\n",
    "model.add(Dropout(0.2))\n",
    "model.add(Dense(256, activation='relu'))\n",
    "model.add(Dense(y_train.shape[1], activation = 'softmax'))"
   ]
  },
  {
   "cell_type": "code",
   "execution_count": 13,
   "metadata": {
    "_uuid": "35b935ba70de30cd274d5bcd32eed0d859dbedfb",
    "execution": {
     "iopub.execute_input": "2022-05-14T08:18:44.390389Z",
     "iopub.status.busy": "2022-05-14T08:18:44.382624Z",
     "iopub.status.idle": "2022-05-14T08:18:44.431004Z",
     "shell.execute_reply": "2022-05-14T08:18:44.429815Z",
     "shell.execute_reply.started": "2022-05-14T08:18:44.390318Z"
    }
   },
   "outputs": [],
   "source": [
    "model.summary()"
   ]
  },
  {
   "cell_type": "code",
   "execution_count": 14,
   "metadata": {
    "_uuid": "2ec5b81bd2a72e8359ae954d1cc7569f87e39948",
    "execution": {
     "iopub.execute_input": "2022-05-14T08:18:44.435403Z",
     "iopub.status.busy": "2022-05-14T08:18:44.432850Z",
     "iopub.status.idle": "2022-05-14T08:18:44.550462Z",
     "shell.execute_reply": "2022-05-14T08:18:44.549388Z",
     "shell.execute_reply.started": "2022-05-14T08:18:44.435332Z"
    }
   },
   "outputs": [],
   "source": [
    "model.compile(optimizer='adam', loss='categorical_crossentropy', metrics=['accuracy'])"
   ]
  },
  {
   "cell_type": "code",
   "execution_count": 15,
   "metadata": {
    "_uuid": "f247a2af653cd6dd5e2b9d47cad73305ed8071cb",
    "execution": {
     "iopub.execute_input": "2022-05-14T08:18:44.553030Z",
     "iopub.status.busy": "2022-05-14T08:18:44.552200Z",
     "iopub.status.idle": "2022-05-14T08:18:44.558374Z",
     "shell.execute_reply": "2022-05-14T08:18:44.557332Z",
     "shell.execute_reply.started": "2022-05-14T08:18:44.552963Z"
    }
   },
   "outputs": [],
   "source": [
    "epochs = 100\n",
    "batchsize = 1024"
   ]
  },
  {
   "cell_type": "code",
   "execution_count": 16,
   "metadata": {
    "_uuid": "7406a7ec2dafa38dd5bd78907c47ab36245cf1e2",
    "execution": {
     "iopub.execute_input": "2022-05-14T08:18:44.562800Z",
     "iopub.status.busy": "2022-05-14T08:18:44.561968Z",
     "iopub.status.idle": "2022-05-14T08:49:54.223351Z",
     "shell.execute_reply": "2022-05-14T08:49:54.222204Z",
     "shell.execute_reply.started": "2022-05-14T08:18:44.562684Z"
    }
   },
   "outputs": [],
   "source": [
    "history = model.fit(X_train, y_train, epochs = epochs, batch_size = batchsize, verbose=2)"
   ]
  },
  {
   "cell_type": "markdown",
   "metadata": {
    "_uuid": "cd86692e9f0e1774ae235065b81a223472668432"
   },
   "source": [
    "### Checking out the loss and accuracy of the model through the training process"
   ]
  },
  {
   "cell_type": "code",
   "execution_count": 17,
   "metadata": {
    "_uuid": "422fe15bd754ee11d26ce788a7d6043f1c2d3bd5",
    "execution": {
     "iopub.execute_input": "2022-05-14T08:49:54.225143Z",
     "iopub.status.busy": "2022-05-14T08:49:54.224800Z",
     "iopub.status.idle": "2022-05-14T08:49:54.504311Z",
     "shell.execute_reply": "2022-05-14T08:49:54.503073Z",
     "shell.execute_reply.started": "2022-05-14T08:49:54.225082Z"
    }
   },
   "outputs": [],
   "source": [
    "plt.plot(history.history['loss'], color='r', label=\"Train Loss\")\n",
    "plt.title(\"Train Loss\")\n",
    "plt.xlabel(\"Number of Epochs\")\n",
    "plt.ylabel(\"Loss\")\n",
    "plt.legend()\n",
    "plt.show()"
   ]
  },
  {
   "cell_type": "code",
   "execution_count": 18,
   "metadata": {
    "_uuid": "322a73e6fefaf5f3aeb6eae3f839cd5414954496",
    "execution": {
     "iopub.execute_input": "2022-05-14T08:49:54.512853Z",
     "iopub.status.busy": "2022-05-14T08:49:54.506272Z",
     "iopub.status.idle": "2022-05-14T08:49:54.794347Z",
     "shell.execute_reply": "2022-05-14T08:49:54.793193Z",
     "shell.execute_reply.started": "2022-05-14T08:49:54.512772Z"
    }
   },
   "outputs": [],
   "source": [
    "plt.plot(history.history['acc'], color='g', label=\"Train Accuracy\")\n",
    "plt.title(\"Train Accuracy\")\n",
    "plt.xlabel(\"Number of Epochs\")\n",
    "plt.ylabel(\"Accuracy\")\n",
    "plt.legend()\n",
    "plt.show()"
   ]
  },
  {
   "cell_type": "code",
   "execution_count": 19,
   "metadata": {
    "_uuid": "2836a0bdcc8675b074d9fb311fa4f84df456d719",
    "execution": {
     "iopub.execute_input": "2022-05-14T08:49:54.803552Z",
     "iopub.status.busy": "2022-05-14T08:49:54.800363Z",
     "iopub.status.idle": "2022-05-14T08:49:54.815540Z",
     "shell.execute_reply": "2022-05-14T08:49:54.814308Z",
     "shell.execute_reply.started": "2022-05-14T08:49:54.803469Z"
    }
   },
   "outputs": [],
   "source": [
    "print('Train accuracy of the model: ',history.history['acc'][-1])"
   ]
  },
  {
   "cell_type": "code",
   "execution_count": 20,
   "metadata": {
    "_uuid": "1aa3752657db289e378d6242b0b613d8dca80c73",
    "execution": {
     "iopub.execute_input": "2022-05-14T08:49:54.817305Z",
     "iopub.status.busy": "2022-05-14T08:49:54.816866Z",
     "iopub.status.idle": "2022-05-14T08:49:55.465232Z",
     "shell.execute_reply": "2022-05-14T08:49:55.464045Z",
     "shell.execute_reply.started": "2022-05-14T08:49:54.817170Z"
    }
   },
   "outputs": [],
   "source": [
    "test = os.listdir(\"../input/test/\")\n",
    "print(len(test))"
   ]
  },
  {
   "cell_type": "code",
   "execution_count": 21,
   "metadata": {
    "_uuid": "92d3a8e4c118be0f353a0b8882b9919a6ec1c302",
    "execution": {
     "iopub.execute_input": "2022-05-14T08:49:55.467250Z",
     "iopub.status.busy": "2022-05-14T08:49:55.466864Z",
     "iopub.status.idle": "2022-05-14T08:49:55.477754Z",
     "shell.execute_reply": "2022-05-14T08:49:55.475701Z",
     "shell.execute_reply.started": "2022-05-14T08:49:55.467173Z"
    }
   },
   "outputs": [],
   "source": [
    "test_data = pd.DataFrame(test, columns=['Image'])\n",
    "test_data['Id'] = ''"
   ]
  },
  {
   "cell_type": "code",
   "execution_count": 22,
   "metadata": {
    "_uuid": "ff871a87d92f22e85df4849a3a1943b80c50d440",
    "execution": {
     "iopub.execute_input": "2022-05-14T08:49:55.480288Z",
     "iopub.status.busy": "2022-05-14T08:49:55.479720Z",
     "iopub.status.idle": "2022-05-14T08:52:35.871258Z",
     "shell.execute_reply": "2022-05-14T08:52:35.870262Z",
     "shell.execute_reply.started": "2022-05-14T08:49:55.480025Z"
    }
   },
   "outputs": [],
   "source": [
    "X_test = prepareImages(test_data, test_data.shape[0], \"test\")\n",
    "X_test /= 255"
   ]
  },
  {
   "cell_type": "code",
   "execution_count": 23,
   "metadata": {
    "_uuid": "9036dc44a53869e39ab7c76c21db053aee772a85",
    "execution": {
     "iopub.execute_input": "2022-05-14T08:52:35.873058Z",
     "iopub.status.busy": "2022-05-14T08:52:35.872735Z",
     "iopub.status.idle": "2022-05-14T08:52:39.855300Z",
     "shell.execute_reply": "2022-05-14T08:52:39.854386Z",
     "shell.execute_reply.started": "2022-05-14T08:52:35.872998Z"
    }
   },
   "outputs": [],
   "source": [
    "predictions = model.predict(np.array(X_test), verbose=1)"
   ]
  },
  {
   "cell_type": "code",
   "execution_count": 26,
   "metadata": {
    "_uuid": "ddca8422a3ad4a7b88bb04dac5d7d142ab8ce1a8",
    "execution": {
     "iopub.execute_input": "2022-05-14T08:54:15.045002Z",
     "iopub.status.busy": "2022-05-14T08:54:15.044653Z",
     "iopub.status.idle": "2022-05-14T08:54:26.004955Z",
     "shell.execute_reply": "2022-05-14T08:54:26.003870Z",
     "shell.execute_reply.started": "2022-05-14T08:54:15.044932Z"
    }
   },
   "outputs": [],
   "source": [
    "for i, pred in enumerate(predictions):\n",
    "    test_data.loc[i, 'Id'] = ' '.join(label_encoder.inverse_transform(pred.argsort()[-5:][::-1]))"
   ]
  },
  {
   "cell_type": "code",
   "execution_count": 25,
   "metadata": {
    "_uuid": "13d7f96b6a49cff477f28ac4e9c9707c0621af99",
    "execution": {
     "iopub.execute_input": "2022-05-14T08:52:50.664387Z",
     "iopub.status.busy": "2022-05-14T08:52:50.664034Z",
     "iopub.status.idle": "2022-05-14T08:52:50.900931Z",
     "shell.execute_reply": "2022-05-14T08:52:50.900074Z",
     "shell.execute_reply.started": "2022-05-14T08:52:50.664326Z"
    }
   },
   "outputs": [],
   "source": []
  }
 ],
 "metadata": {
  "kernelspec": {
   "display_name": "Python 3 (ipykernel)",
   "language": "python",
   "name": "python3"
  },
  "language_info": {
   "codemirror_mode": {
    "name": "ipython",
    "version": 3
   },
   "file_extension": ".py",
   "mimetype": "text/x-python",
   "name": "python",
   "nbconvert_exporter": "python",
   "pygments_lexer": "ipython3",
   "version": "3.9.12"
  }
 },
 "nbformat": 4,
 "nbformat_minor": 4
}
