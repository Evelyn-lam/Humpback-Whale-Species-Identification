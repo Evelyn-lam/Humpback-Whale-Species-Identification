{
 "cells": [
  {
   "cell_type": "code",
   "execution_count": 7,
   "metadata": {
    "execution": {
     "iopub.execute_input": "2022-05-14T09:14:50.731724Z",
     "iopub.status.busy": "2022-05-14T09:14:50.731357Z",
     "iopub.status.idle": "2022-05-14T09:14:50.748418Z",
     "shell.execute_reply": "2022-05-14T09:14:50.747046Z",
     "shell.execute_reply.started": "2022-05-14T09:14:50.731666Z"
    }
   },
   "outputs": [],
   "source": [
    "import numpy as np \n",
    "import pandas as pd \n",
    "import matplotlib.pyplot as plt\n",
    "%matplotlib inline\n",
    "\n",
    "import os\n",
    "print(os.listdir(\"../input\"))"
   ]
  },
  {
   "cell_type": "code",
   "execution_count": 11,
   "metadata": {
    "_cell_guid": "4f9f87b6-325f-466e-81f7-484130c82bb5",
    "_uuid": "7a4a8209-07d9-4ba1-afde-16186486ab2f",
    "collapsed": false,
    "execution": {
     "iopub.execute_input": "2022-05-14T09:15:45.833303Z",
     "iopub.status.busy": "2022-05-14T09:15:45.832966Z",
     "iopub.status.idle": "2022-05-14T09:15:45.880319Z",
     "shell.execute_reply": "2022-05-14T09:15:45.879441Z",
     "shell.execute_reply.started": "2022-05-14T09:15:45.833247Z"
    },
    "jupyter": {
     "outputs_hidden": false
    }
   },
   "outputs": [],
   "source": [
    "# Using Kaggle Notebook to run it\n",
    "train = pd.read_csv('../input/humpback-whale-identification/train.csv')"
   ]
  },
  {
   "cell_type": "code",
   "execution_count": 12,
   "metadata": {
    "_cell_guid": "5c13a134-1720-4639-a99b-2b9205821c68",
    "_uuid": "54803c66-544c-4b22-b19d-a608d7c08869",
    "collapsed": false,
    "execution": {
     "iopub.execute_input": "2022-05-14T09:15:49.213351Z",
     "iopub.status.busy": "2022-05-14T09:15:49.212728Z",
     "iopub.status.idle": "2022-05-14T09:15:49.245704Z",
     "shell.execute_reply": "2022-05-14T09:15:49.244792Z",
     "shell.execute_reply.started": "2022-05-14T09:15:49.212991Z"
    },
    "jupyter": {
     "outputs_hidden": false
    }
   },
   "outputs": [],
   "source": [
    "train.head()"
   ]
  },
  {
   "cell_type": "code",
   "execution_count": 13,
   "metadata": {
    "_cell_guid": "a6be290f-d618-4e83-a196-574664378aaf",
    "_uuid": "ef1d2aab-efd2-4f50-bb63-0f8cdc25b119",
    "collapsed": false,
    "execution": {
     "iopub.execute_input": "2022-05-14T09:15:51.470476Z",
     "iopub.status.busy": "2022-05-14T09:15:51.470137Z",
     "iopub.status.idle": "2022-05-14T09:15:51.498977Z",
     "shell.execute_reply": "2022-05-14T09:15:51.497950Z",
     "shell.execute_reply.started": "2022-05-14T09:15:51.470416Z"
    },
    "jupyter": {
     "outputs_hidden": false
    }
   },
   "outputs": [],
   "source": [
    "train['Id'].describe()"
   ]
  },
  {
   "cell_type": "code",
   "execution_count": 33,
   "metadata": {
    "_cell_guid": "98335860-1dfb-4648-a0f3-f5c36593c6b4",
    "_uuid": "b3710185-ad2f-44cd-95d5-33bee10fdaaa",
    "collapsed": false,
    "execution": {
     "iopub.execute_input": "2022-05-14T09:19:05.433336Z",
     "iopub.status.busy": "2022-05-14T09:19:05.433006Z",
     "iopub.status.idle": "2022-05-14T09:19:05.442454Z",
     "shell.execute_reply": "2022-05-14T09:19:05.441466Z",
     "shell.execute_reply.started": "2022-05-14T09:19:05.433282Z"
    },
    "jupyter": {
     "outputs_hidden": false
    }
   },
   "outputs": [],
   "source": [
    "y_train = train['Id']"
   ]
  },
  {
   "cell_type": "markdown",
   "metadata": {},
   "source": [
    "## Image Preprocessing"
   ]
  },
  {
   "cell_type": "code",
   "execution_count": 52,
   "metadata": {
    "_cell_guid": "d75acfe1-ed0f-493d-a8e9-735c0c7200fa",
    "_uuid": "a046102f-ee28-4124-85e4-7a5b49b95335",
    "collapsed": false,
    "execution": {
     "iopub.execute_input": "2022-05-14T09:30:18.322332Z",
     "iopub.status.busy": "2022-05-14T09:30:18.322029Z",
     "iopub.status.idle": "2022-05-14T09:30:18.330984Z",
     "shell.execute_reply": "2022-05-14T09:30:18.329963Z",
     "shell.execute_reply.started": "2022-05-14T09:30:18.322279Z"
    },
    "jupyter": {
     "outputs_hidden": false
    }
   },
   "outputs": [],
   "source": [
    "from keras.preprocessing import image\n",
    "from keras.applications.imagenet_utils import preprocess_input\n",
    "\n",
    "def prepareImages(train, shape, path):\n",
    "    \n",
    "    X_train = np.zeros((shape, 100, 100, 3))\n",
    "    count = 0\n",
    "    \n",
    "    for fig in train['Image']:\n",
    "        \n",
    "        #load images into images of size 100x100x3\n",
    "        img = image.load_img(\"../input/humpback-whale-identification/\"+path+\"/\"+fig, target_size=(100, 100, 3))\n",
    "        x = image.img_to_array(img)\n",
    "        x = preprocess_input(x)\n",
    "\n",
    "        X_train[count] = x\n",
    "        if (count%500 == 0):\n",
    "            print(\"Processing image: \", count+1, \", \", fig)\n",
    "        count += 1\n",
    "    \n",
    "    return X_train"
   ]
  },
  {
   "cell_type": "code",
   "execution_count": 53,
   "metadata": {
    "_cell_guid": "d9ac06f7-4d97-4d2d-a09b-c717daae19c7",
    "_uuid": "0604e3a1-12a7-4441-b539-f0e0ef202472",
    "collapsed": false,
    "execution": {
     "iopub.execute_input": "2022-05-14T09:30:18.940893Z",
     "iopub.status.busy": "2022-05-14T09:30:18.940597Z",
     "iopub.status.idle": "2022-05-14T09:37:03.258134Z",
     "shell.execute_reply": "2022-05-14T09:37:03.256013Z",
     "shell.execute_reply.started": "2022-05-14T09:30:18.940842Z"
    },
    "jupyter": {
     "outputs_hidden": false
    }
   },
   "outputs": [],
   "source": [
    "X_train = prepareImages(train, train.shape[0], 'train')\n",
    "X_train/=255"
   ]
  },
  {
   "cell_type": "code",
   "execution_count": 54,
   "metadata": {
    "_cell_guid": "25ef0cbe-17b6-477b-90a3-4a7b18826b14",
    "_uuid": "418c9a67-ea0d-4eb0-968c-4533cd55cd97",
    "collapsed": false,
    "execution": {
     "iopub.execute_input": "2022-05-14T09:40:33.899211Z",
     "iopub.status.busy": "2022-05-14T09:40:33.897734Z",
     "iopub.status.idle": "2022-05-14T09:40:33.903315Z",
     "shell.execute_reply": "2022-05-14T09:40:33.902216Z",
     "shell.execute_reply.started": "2022-05-14T09:40:33.899116Z"
    },
    "jupyter": {
     "outputs_hidden": false
    }
   },
   "outputs": [],
   "source": [
    "from sklearn.preprocessing import LabelEncoder\n",
    "from keras.utils.np_utils import to_categorical\n",
    "\n",
    "label_encoder = LabelEncoder()\n",
    "y_train = label_encoder.fit_transform(y_train)\n",
    "y_train = to_categorical(y_train, num_classes = 5005)"
   ]
  },
  {
   "cell_type": "code",
   "execution_count": 38,
   "metadata": {
    "_cell_guid": "c3dc80e5-c252-444c-9107-422d75a49d16",
    "_uuid": "903add42-4afb-4e87-93ed-bbb7bada7f14",
    "collapsed": false,
    "execution": {
     "iopub.execute_input": "2022-05-14T09:19:13.798301Z",
     "iopub.status.busy": "2022-05-14T09:19:13.797987Z",
     "iopub.status.idle": "2022-05-14T09:19:13.804588Z",
     "shell.execute_reply": "2022-05-14T09:19:13.803736Z",
     "shell.execute_reply.started": "2022-05-14T09:19:13.798246Z"
    },
    "jupyter": {
     "outputs_hidden": false
    }
   },
   "outputs": [],
   "source": [
    "y_train.shape"
   ]
  },
  {
   "cell_type": "markdown",
   "metadata": {
    "_cell_guid": "f71c7060-4cb9-4642-92b0-d8926daed79b",
    "_uuid": "9446bb4c-48b9-45a7-a844-69e4291786ec"
   },
   "source": [
    "## Model Building"
   ]
  },
  {
   "cell_type": "code",
   "execution_count": 56,
   "metadata": {
    "_cell_guid": "421908bb-f758-4164-b78c-7328ecaaf0a7",
    "_uuid": "e866f6e7-547d-4ec4-aa92-f4c184b7bb03",
    "collapsed": false,
    "execution": {
     "iopub.execute_input": "2022-05-14T09:41:09.399521Z",
     "iopub.status.busy": "2022-05-14T09:41:09.399199Z",
     "iopub.status.idle": "2022-05-14T09:41:09.404557Z",
     "shell.execute_reply": "2022-05-14T09:41:09.403196Z",
     "shell.execute_reply.started": "2022-05-14T09:41:09.399467Z"
    },
    "jupyter": {
     "outputs_hidden": false
    }
   },
   "outputs": [],
   "source": [
    "from keras.models import Sequential\n",
    "from keras.preprocessing.image import ImageDataGenerator\n",
    "from keras.layers import Dropout, Flatten, MaxPooling2D, Conv2D, Dense\n",
    "from keras.layers.normalization import BatchNormalization"
   ]
  },
  {
   "cell_type": "code",
   "execution_count": 57,
   "metadata": {
    "_cell_guid": "28be5e43-efdc-4728-820c-a065a5030956",
    "_uuid": "a53874f5-24fa-4509-83a5-609f715286c5",
    "collapsed": false,
    "execution": {
     "iopub.execute_input": "2022-05-14T09:41:10.246353Z",
     "iopub.status.busy": "2022-05-14T09:41:10.245632Z",
     "iopub.status.idle": "2022-05-14T09:41:10.687505Z",
     "shell.execute_reply": "2022-05-14T09:41:10.686441Z",
     "shell.execute_reply.started": "2022-05-14T09:41:10.246290Z"
    },
    "jupyter": {
     "outputs_hidden": false
    }
   },
   "outputs": [],
   "source": [
    "model = Sequential()\n",
    "\n",
    "model.add(Conv2D(32, (5,5), strides = (1,1), padding='same', activation = 'relu', input_shape = (100, 100, 3)))\n",
    "model.add(Conv2D(32, (5,5), strides = (1,1), padding = 'same', activation='relu'))\n",
    "model.add(MaxPooling2D((2,2)))\n",
    "\n",
    "model.add(Conv2D(32, (3,3), strides = (2,2), padding='same', activation='relu'))\n",
    "model.add(Conv2D(32, (3,3), strides = (2,2), padding='same', activation='relu'))\n",
    "model.add(MaxPooling2D((2,2), strides = (2,2)))\n",
    "\n",
    "model.add(Conv2D(64, (3,3), strides = (1,1), padding='same', activation='relu'))\n",
    "model.add(Conv2D(64, (3,3), strides=(1,1), padding='same', activation='relu'))\n",
    "model.add(MaxPooling2D((2,2), strides = (2,2)))\n",
    "\n",
    "model.add(Dropout(0.2))\n",
    "model.add(Flatten())\n",
    "\n",
    "model.add(Dense(128, activation='relu'))\n",
    "model.add(Dropout(0.2))\n",
    "model.add(Dense(256, activation='relu'))\n",
    "model.add(Dense(y_train.shape[1], activation = 'softmax'))"
   ]
  },
  {
   "cell_type": "code",
   "execution_count": 58,
   "metadata": {
    "_cell_guid": "e19664aa-324e-49f9-a908-0134c2cc5e5f",
    "_uuid": "01c69928-a417-451f-b2e6-88e52fd3ecd7",
    "collapsed": false,
    "execution": {
     "iopub.execute_input": "2022-05-14T09:41:10.869529Z",
     "iopub.status.busy": "2022-05-14T09:41:10.866687Z",
     "iopub.status.idle": "2022-05-14T09:41:10.894573Z",
     "shell.execute_reply": "2022-05-14T09:41:10.893534Z",
     "shell.execute_reply.started": "2022-05-14T09:41:10.869454Z"
    },
    "jupyter": {
     "outputs_hidden": false
    }
   },
   "outputs": [],
   "source": [
    "model.summary()"
   ]
  },
  {
   "cell_type": "code",
   "execution_count": 59,
   "metadata": {
    "_cell_guid": "af3ba451-8de4-482a-aabd-94b3b70e8548",
    "_uuid": "657bac3c-d123-486e-9a3e-056b479bf8ee",
    "collapsed": false,
    "execution": {
     "iopub.execute_input": "2022-05-14T09:41:11.609061Z",
     "iopub.status.busy": "2022-05-14T09:41:11.608759Z",
     "iopub.status.idle": "2022-05-14T09:41:11.679876Z",
     "shell.execute_reply": "2022-05-14T09:41:11.678965Z",
     "shell.execute_reply.started": "2022-05-14T09:41:11.609008Z"
    },
    "jupyter": {
     "outputs_hidden": false
    }
   },
   "outputs": [],
   "source": [
    "model.compile(optimizer='adam', loss='categorical_crossentropy', metrics=['accuracy'])"
   ]
  },
  {
   "cell_type": "code",
   "execution_count": null,
   "metadata": {},
   "outputs": [],
   "source": [
    "### Checking out the loss and accuracy of the model through the training process"
   ]
  },
  {
   "cell_type": "code",
   "execution_count": 60,
   "metadata": {
    "_cell_guid": "3900ddec-c935-4132-8c91-a3cf0b9002c2",
    "_uuid": "63865212-4609-47e4-9298-d287e98e2039",
    "collapsed": false,
    "execution": {
     "iopub.execute_input": "2022-05-14T09:41:12.132748Z",
     "iopub.status.busy": "2022-05-14T09:41:12.132431Z",
     "iopub.status.idle": "2022-05-14T09:41:12.138286Z",
     "shell.execute_reply": "2022-05-14T09:41:12.136158Z",
     "shell.execute_reply.started": "2022-05-14T09:41:12.132695Z"
    },
    "jupyter": {
     "outputs_hidden": false
    }
   },
   "outputs": [],
   "source": [
    "epochs = 100\n",
    "batchsize = 1024"
   ]
  },
  {
   "cell_type": "code",
   "execution_count": 61,
   "metadata": {
    "_cell_guid": "a36c40ce-420a-47cf-ad62-62719d6725c3",
    "_uuid": "abc5bf95-246f-4d87-817a-00ec7503151e",
    "collapsed": false,
    "execution": {
     "iopub.execute_input": "2022-05-14T09:41:12.954565Z",
     "iopub.status.busy": "2022-05-14T09:41:12.954243Z",
     "iopub.status.idle": "2022-05-14T10:13:14.575783Z",
     "shell.execute_reply": "2022-05-14T10:13:14.574774Z",
     "shell.execute_reply.started": "2022-05-14T09:41:12.954510Z"
    },
    "jupyter": {
     "outputs_hidden": false
    }
   },
   "outputs": [],
   "source": [
    "history = model.fit(X_train, y_train, epochs = epochs, batch_size = batchsize, verbose=2)"
   ]
  },
  {
   "cell_type": "code",
   "execution_count": 63,
   "metadata": {
    "_cell_guid": "9d7fae7a-5718-4d23-88a7-471f900f561a",
    "_uuid": "7ab8c114-f82a-45e9-8ed8-a07d20acc29d",
    "collapsed": false,
    "execution": {
     "iopub.execute_input": "2022-05-14T10:15:03.438171Z",
     "iopub.status.busy": "2022-05-14T10:15:03.437863Z",
     "iopub.status.idle": "2022-05-14T10:15:03.696663Z",
     "shell.execute_reply": "2022-05-14T10:15:03.695721Z",
     "shell.execute_reply.started": "2022-05-14T10:15:03.438119Z"
    },
    "jupyter": {
     "outputs_hidden": false
    }
   },
   "outputs": [],
   "source": [
    "plt.plot(history.history['loss'], color='r', label=\"Train Loss\")\n",
    "plt.title(\"Train Loss\")\n",
    "plt.xlabel(\"Number of Epochs\")\n",
    "plt.ylabel(\"Loss\")\n",
    "plt.legend()\n",
    "plt.show()"
   ]
  },
  {
   "cell_type": "code",
   "execution_count": 64,
   "metadata": {
    "_cell_guid": "851b3ac0-e50b-4f4a-8824-9bef2d97162f",
    "_uuid": "631595ce-b810-4ea1-8e54-f665a48d92f4",
    "collapsed": false,
    "execution": {
     "iopub.execute_input": "2022-05-14T10:15:07.459053Z",
     "iopub.status.busy": "2022-05-14T10:15:07.458731Z",
     "iopub.status.idle": "2022-05-14T10:15:07.709172Z",
     "shell.execute_reply": "2022-05-14T10:15:07.708146Z",
     "shell.execute_reply.started": "2022-05-14T10:15:07.458993Z"
    },
    "jupyter": {
     "outputs_hidden": false
    }
   },
   "outputs": [],
   "source": [
    "plt.plot(history.history['acc'], color='g', label=\"Train Accuracy\")\n",
    "plt.title(\"Train Accuracy\")\n",
    "plt.xlabel(\"Number of Epochs\")\n",
    "plt.ylabel(\"Accuracy\")\n",
    "plt.legend()\n",
    "plt.show()"
   ]
  },
  {
   "cell_type": "code",
   "execution_count": null,
   "metadata": {
    "tags": []
   },
   "outputs": [],
   "source": [
    "print('Train loss of the model: ',history.history['loss'][-1])\n",
    "\n",
    "### Train loss of the model:  0.7547608720598656"
   ]
  },
  {
   "cell_type": "code",
   "execution_count": 65,
   "metadata": {
    "_cell_guid": "b5495627-9fe4-45f8-818c-bf74b683796c",
    "_uuid": "c1e613e7-4cf9-4fda-9b60-caf04909e279",
    "collapsed": false,
    "execution": {
     "iopub.execute_input": "2022-05-14T10:15:11.406248Z",
     "iopub.status.busy": "2022-05-14T10:15:11.405943Z",
     "iopub.status.idle": "2022-05-14T10:15:11.411801Z",
     "shell.execute_reply": "2022-05-14T10:15:11.410135Z",
     "shell.execute_reply.started": "2022-05-14T10:15:11.406195Z"
    },
    "jupyter": {
     "outputs_hidden": false
    }
   },
   "outputs": [],
   "source": [
    "print('Train accuracy of the model: ',history.history['acc'][-1])\n",
    "\n",
    "### Train accuracy of the model:  0.7667284407270081"
   ]
  },
  {
   "cell_type": "code",
   "execution_count": 68,
   "metadata": {
    "execution": {
     "iopub.execute_input": "2022-05-14T10:16:44.754996Z",
     "iopub.status.busy": "2022-05-14T10:16:44.754702Z",
     "iopub.status.idle": "2022-05-14T10:16:45.516320Z",
     "shell.execute_reply": "2022-05-14T10:16:45.515239Z",
     "shell.execute_reply.started": "2022-05-14T10:16:44.754946Z"
    }
   },
   "outputs": [],
   "source": [
    "\n",
    "test = os.listdir(\"../input/humpback-whale-identification/test/\")\n",
    "print(len(test))"
   ]
  },
  {
   "cell_type": "code",
   "execution_count": 69,
   "metadata": {
    "execution": {
     "iopub.execute_input": "2022-05-14T10:17:04.210664Z",
     "iopub.status.busy": "2022-05-14T10:17:04.210327Z",
     "iopub.status.idle": "2022-05-14T10:17:04.230209Z",
     "shell.execute_reply": "2022-05-14T10:17:04.229356Z",
     "shell.execute_reply.started": "2022-05-14T10:17:04.210609Z"
    }
   },
   "outputs": [],
   "source": [
    "test_data = pd.DataFrame(test, columns=['Image'])\n",
    "test_data['Id'] = ''"
   ]
  },
  {
   "cell_type": "code",
   "execution_count": 70,
   "metadata": {
    "execution": {
     "iopub.execute_input": "2022-05-14T10:17:14.155636Z",
     "iopub.status.busy": "2022-05-14T10:17:14.155286Z",
     "iopub.status.idle": "2022-05-14T10:19:59.508086Z",
     "shell.execute_reply": "2022-05-14T10:19:59.507327Z",
     "shell.execute_reply.started": "2022-05-14T10:17:14.155579Z"
    }
   },
   "outputs": [],
   "source": [
    "X_test = prepareImages(test_data, test_data.shape[0], \"test\")\n",
    "X_test /= 255"
   ]
  },
  {
   "cell_type": "code",
   "execution_count": 73,
   "metadata": {
    "execution": {
     "iopub.execute_input": "2022-05-14T10:20:42.543619Z",
     "iopub.status.busy": "2022-05-14T10:20:42.543298Z",
     "iopub.status.idle": "2022-05-14T10:20:46.630870Z",
     "shell.execute_reply": "2022-05-14T10:20:46.629900Z",
     "shell.execute_reply.started": "2022-05-14T10:20:42.543567Z"
    }
   },
   "outputs": [],
   "source": [
    "predictions = model.predict(np.array(X_test), verbose=1)"
   ]
  }
 ],
 "metadata": {
  "kernelspec": {
   "display_name": "Python 3 (ipykernel)",
   "language": "python",
   "name": "python3"
  },
  "language_info": {
   "codemirror_mode": {
    "name": "ipython",
    "version": 3
   },
   "file_extension": ".py",
   "mimetype": "text/x-python",
   "name": "python",
   "nbconvert_exporter": "python",
   "pygments_lexer": "ipython3",
   "version": "3.9.12"
  }
 },
 "nbformat": 4,
 "nbformat_minor": 4
}
